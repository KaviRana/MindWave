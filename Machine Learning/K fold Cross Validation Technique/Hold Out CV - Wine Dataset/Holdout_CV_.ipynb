{
  "nbformat": 4,
  "nbformat_minor": 0,
  "metadata": {
    "colab": {
      "provenance": []
    },
    "kernelspec": {
      "name": "python3",
      "display_name": "Python 3"
    },
    "language_info": {
      "name": "python"
    }
  },
  "cells": [
    {
      "cell_type": "markdown",
      "source": [
        "<h1>What is Hold Out Cross Validation Tecnhique?</h1>\n",
        "\n",
        "The holdout method is a technique used to evaluate models by splitting the dataset into two parts: the training set and the test set. The model is trained on the training set and then assessed on the test set to determine its performance.\n",
        "\n",
        "This method is commonly employed when the dataset is small and creating separate training, validation, and testing sets is not feasible. While it is easy to implement, it is crucial to ensure a random split to avoid biased outcomes. It serves as a useful starting point for training machine learning models, but caution must be exercised.\n",
        "\n",
        "Typically, the holdout method involves dividing the dataset into a 70-30% split, with 70% allocated for training and 30% for testing. This approach allows for model comparison based on accuracy with the test dataset to select the best model. However, there is a risk of overfitting to the test dataset, where models may be excessively optimized for it. This can result in poor generalization to unseen or future data. It is vital to be mindful of this limitation to ensure that the final model can generalize effectively beyond the test dataset.\n"
      ],
      "metadata": {
        "id": "5AFc0qHRh3NM"
      }
    },
    {
      "cell_type": "code",
      "source": [
        "import pandas as pd\n",
        "from sklearn.model_selection import train_test_split\n",
        "from sklearn.ensemble import RandomForestRegressor\n",
        "from sklearn.svm import SVR\n",
        "from sklearn.metrics import mean_squared_error\n"
      ],
      "metadata": {
        "id": "aP8f3aLxpYDe"
      },
      "execution_count": null,
      "outputs": []
    },
    {
      "cell_type": "code",
      "source": [
        "\n",
        "# Load the wine dataset\n",
        "df = pd.read_csv('/content/ChemicalContent in Wine.csv')\n",
        "\n",
        "# Select the attributes and target variable\n",
        "X = df[['Alcohol', 'Malic_Acid', 'Ash', 'Ash_Alcanity', 'Magnesium',\n",
        "        'Total_Phenols', 'Flavanoids', 'Nonflavanoid_Phenols',\n",
        "        'Proanthocyanins', 'Color_Intensity', 'Hue', 'OD280']]\n",
        "y = df['Proline']\n",
        "\n",
        "# Split the data into training and test datasets\n",
        "X_train, X_test, y_train, y_test = train_test_split(X, y, test_size=0.3, random_state=42)"
      ],
      "metadata": {
        "id": "k3ZF4B6npalb"
      },
      "execution_count": null,
      "outputs": []
    },
    {
      "cell_type": "code",
      "source": [
        "# Random Forest Regression\n",
        "rf_model = RandomForestRegressor(random_state=42)\n",
        "rf_model.fit(X_train, y_train)\n",
        "y_pred_rf = rf_model.predict(X_test)\n",
        "mse_rf = mean_squared_error(y_test, y_pred_rf)"
      ],
      "metadata": {
        "id": "eZtLMMpFpdhL"
      },
      "execution_count": null,
      "outputs": []
    },
    {
      "cell_type": "code",
      "source": [
        "# Support Vector Regression\n",
        "svr_model = SVR()\n",
        "svr_model.fit(X_train, y_train)\n",
        "y_pred_svr = svr_model.predict(X_test)\n",
        "mse_svr = mean_squared_error(y_test, y_pred_svr)"
      ],
      "metadata": {
        "id": "SZSeXBz2pg6I"
      },
      "execution_count": null,
      "outputs": []
    },
    {
      "cell_type": "code",
      "source": [
        "# Print the results\n",
        "print(\"Random Forest Regression - Mean Squared Error:\", mse_rf)\n",
        "print(\"Support Vector Regression - Mean Squared Error:\", mse_svr)\n",
        "\n"
      ],
      "metadata": {
        "colab": {
          "base_uri": "https://localhost:8080/"
        },
        "id": "Hs_XgEHmorP5",
        "outputId": "52218f3e-d4bc-4893-d170-766deb992fd8"
      },
      "execution_count": null,
      "outputs": [
        {
          "output_type": "stream",
          "name": "stdout",
          "text": [
            "Random Forest Regression - Mean Squared Error: 30773.9256537037\n",
            "Support Vector Regression - Mean Squared Error: 122616.12493365054\n"
          ]
        }
      ]
    }
  ]
}